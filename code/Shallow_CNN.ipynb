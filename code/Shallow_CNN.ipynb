{
 "cells": [
  {
   "cell_type": "markdown",
   "metadata": {},
   "source": [
    "# Shallow CNN model"
   ]
  },
  {
   "cell_type": "code",
   "execution_count": 1,
   "metadata": {},
   "outputs": [
    {
     "name": "stderr",
     "output_type": "stream",
     "text": [
      "Using TensorFlow backend.\n"
     ]
    }
   ],
   "source": [
    "import numpy as np\n",
    "import pandas as pd\n",
    "import keras\n",
    "from keras.models import Sequential\n",
    "from keras.layers import Dense, Activation, Dropout, Flatten\n",
    "from keras.layers import Conv2D, MaxPooling2D\n",
    "from keras.utils import np_utils\n",
    "import matplotlib\n",
    "import matplotlib.pyplot as plt\n",
    "from keras.models import load_model\n",
    "import os\n",
    "from sklearn.metrics import confusion_matrix\n",
    "np.random.seed(7)"
   ]
  },
  {
   "cell_type": "code",
   "execution_count": 2,
   "metadata": {},
   "outputs": [
    {
     "name": "stdout",
     "output_type": "stream",
     "text": [
      "X_train shape: (57418, 48, 48) y_train shape: (57418,)\n",
      "X_test shape: (3589, 48, 48) y_test shape: (3589,)\n"
     ]
    }
   ],
   "source": [
    "EMOTIONS = [\n",
    "  'Angry',\n",
    "  'Disgust',\n",
    "  'Fear',\n",
    "  'Happy',\n",
    "  'Sad',\n",
    "  'Surprise',\n",
    "  'Neutral',\n",
    "]\n",
    "\n",
    "X_train = np.load('data files/X_train.npy')\n",
    "y_train = np.load('data files/y_train.npy')\n",
    "\n",
    "X_test = np.load('data files/X_test.npy')\n",
    "y_test = np.load('data files/y_test.npy')\n",
    "\n",
    "X_val = np.load('data files/X_val.npy')\n",
    "y_val = np.load('data files/y_val.npy')\n",
    "\n",
    "print(\"X_train shape:\", X_train.shape, \"y_train shape:\", y_train.shape)\n",
    "print(\"X_test shape:\", X_test.shape, \"y_test shape:\", y_test.shape)"
   ]
  },
  {
   "cell_type": "code",
   "execution_count": 3,
   "metadata": {},
   "outputs": [
    {
     "name": "stdout",
     "output_type": "stream",
     "text": [
      "X_train shape: (57418, 48, 48, 1) y_train shape: (57418,)\n",
      "X_test shape: (3589, 48, 48, 1) y_test shape: (3589,)\n"
     ]
    }
   ],
   "source": [
    "#Prepare inputs for Keras CNN model\n",
    "\n",
    "X_train = X_train.reshape(X_train.shape[0], 48, 48, 1)\n",
    "X_train = X_train.astype('float32')\n",
    "\n",
    "X_val = X_val.reshape(X_val.shape[0], 48, 48, 1)\n",
    "X_val = X_val.astype('float32')\n",
    "\n",
    "X_test = X_test.reshape(X_test.shape[0], 48, 48, 1)\n",
    "X_test = X_test.astype('float32')\n",
    "\n",
    "print(\"X_train shape:\", X_train.shape, \"y_train shape:\", y_train.shape)\n",
    "print(\"X_test shape:\", X_test.shape, \"y_test shape:\", y_test.shape)\n",
    "\n",
    "y_train = np_utils.to_categorical(y_train, 7)\n",
    "y_val = np_utils.to_categorical(y_val, 7)\n",
    "y_test = np_utils.to_categorical(y_test, 7)\n",
    "\n",
    "num_classes = y_test.shape[1]"
   ]
  },
  {
   "cell_type": "code",
   "execution_count": null,
   "metadata": {},
   "outputs": [],
   "source": [
    "#Load the model if trained model present and evaluate directly on test data\n",
    "\n",
    "if os.path.exists('models/shallow_model.h5'):\n",
    "    model = load_model('models/shallow_model.h5')\n",
    "else:\n",
    "    print('No model to load !')"
   ]
  },
  {
   "cell_type": "code",
   "execution_count": 4,
   "metadata": {},
   "outputs": [
    {
     "name": "stdout",
     "output_type": "stream",
     "text": [
      "_________________________________________________________________\n",
      "Layer (type)                 Output Shape              Param #   \n",
      "=================================================================\n",
      "conv2d_1 (Conv2D)            (None, 44, 44, 32)        832       \n",
      "_________________________________________________________________\n",
      "activation_1 (Activation)    (None, 44, 44, 32)        0         \n",
      "_________________________________________________________________\n",
      "max_pooling2d_1 (MaxPooling2 (None, 22, 22, 32)        0         \n",
      "_________________________________________________________________\n",
      "dropout_1 (Dropout)          (None, 22, 22, 32)        0         \n",
      "_________________________________________________________________\n",
      "flatten_1 (Flatten)          (None, 15488)             0         \n",
      "_________________________________________________________________\n",
      "dense_1 (Dense)              (None, 512)               7930368   \n",
      "_________________________________________________________________\n",
      "activation_2 (Activation)    (None, 512)               0         \n",
      "_________________________________________________________________\n",
      "dropout_2 (Dropout)          (None, 512)               0         \n",
      "_________________________________________________________________\n",
      "dense_2 (Dense)              (None, 7)                 3591      \n",
      "_________________________________________________________________\n",
      "activation_3 (Activation)    (None, 7)                 0         \n",
      "=================================================================\n",
      "Total params: 7,934,791\n",
      "Trainable params: 7,934,791\n",
      "Non-trainable params: 0\n",
      "_________________________________________________________________\n"
     ]
    }
   ],
   "source": [
    "#Build CNN model\n",
    "\n",
    "model = Sequential()\n",
    "\n",
    "model.add(Conv2D(32, (5,5), input_shape=(48,48,1)))\n",
    "model.add(Activation('relu'))\n",
    "\n",
    "model.add(MaxPooling2D(pool_size=(2,2)))\n",
    "model.add(Dropout(0.25))\n",
    "\n",
    "model.add(Flatten())\n",
    "\n",
    "model.add(Dense(512))\n",
    "model.add(Activation('relu'))\n",
    "model.add(Dropout(0.3))\n",
    "\n",
    "model.add(Dense(num_classes))\n",
    "model.add(Activation('softmax'))\n",
    "\n",
    "model.summary()"
   ]
  },
  {
   "cell_type": "code",
   "execution_count": 5,
   "metadata": {},
   "outputs": [],
   "source": [
    "# Visualize model plots and save in image format\n",
    "from keras.utils import plot_model\n",
    "import pydot\n",
    "plot_model(model, to_file='models/shallow_model.png', show_shapes=True)"
   ]
  },
  {
   "cell_type": "code",
   "execution_count": 6,
   "metadata": {},
   "outputs": [],
   "source": [
    "#Compile the model\n",
    "model.compile(loss='categorical_crossentropy',\n",
    "             optimizer='adam',\n",
    "             metrics=['accuracy'])"
   ]
  },
  {
   "cell_type": "code",
   "execution_count": 7,
   "metadata": {},
   "outputs": [
    {
     "name": "stdout",
     "output_type": "stream",
     "text": [
      "Train on 57418 samples, validate on 3589 samples\n",
      "Epoch 1/50\n",
      "57418/57418 [==============================] - 12s 209us/step - loss: 1.5405 - acc: 0.4102 - val_loss: 1.3808 - val_acc: 0.4578\n",
      "Epoch 2/50\n",
      "57418/57418 [==============================] - 9s 163us/step - loss: 1.3667 - acc: 0.4739 - val_loss: 1.3239 - val_acc: 0.4929\n",
      "Epoch 3/50\n",
      "57418/57418 [==============================] - 9s 162us/step - loss: 1.2924 - acc: 0.5054 - val_loss: 1.2909 - val_acc: 0.4993\n",
      "Epoch 4/50\n",
      "57418/57418 [==============================] - 9s 163us/step - loss: 1.2249 - acc: 0.5327 - val_loss: 1.2760 - val_acc: 0.5029\n",
      "Epoch 5/50\n",
      "57418/57418 [==============================] - 9s 162us/step - loss: 1.1619 - acc: 0.5526 - val_loss: 1.2763 - val_acc: 0.5130\n",
      "Epoch 6/50\n",
      "57418/57418 [==============================] - 9s 162us/step - loss: 1.1072 - acc: 0.5753 - val_loss: 1.2632 - val_acc: 0.5227\n",
      "Epoch 7/50\n",
      "57418/57418 [==============================] - 9s 162us/step - loss: 1.0457 - acc: 0.5997 - val_loss: 1.2805 - val_acc: 0.5138\n",
      "Epoch 8/50\n",
      "57418/57418 [==============================] - 9s 163us/step - loss: 0.9937 - acc: 0.6193 - val_loss: 1.2832 - val_acc: 0.5227\n",
      "Epoch 9/50\n",
      "57418/57418 [==============================] - 9s 162us/step - loss: 0.9426 - acc: 0.6391 - val_loss: 1.3205 - val_acc: 0.5227\n",
      "Epoch 10/50\n",
      "57418/57418 [==============================] - 9s 162us/step - loss: 0.8912 - acc: 0.6579 - val_loss: 1.3382 - val_acc: 0.5227\n",
      "Epoch 11/50\n",
      "57418/57418 [==============================] - 9s 163us/step - loss: 0.8456 - acc: 0.6765 - val_loss: 1.3743 - val_acc: 0.5272\n",
      "Epoch 12/50\n",
      "57418/57418 [==============================] - 9s 162us/step - loss: 0.8047 - acc: 0.6925 - val_loss: 1.3932 - val_acc: 0.5222\n",
      "Epoch 13/50\n",
      "57418/57418 [==============================] - 9s 163us/step - loss: 0.7701 - acc: 0.7046 - val_loss: 1.4131 - val_acc: 0.5322\n",
      "Epoch 14/50\n",
      "57418/57418 [==============================] - 9s 162us/step - loss: 0.7298 - acc: 0.7210 - val_loss: 1.4385 - val_acc: 0.5283\n",
      "Epoch 15/50\n",
      "57418/57418 [==============================] - 9s 163us/step - loss: 0.7053 - acc: 0.7308 - val_loss: 1.4753 - val_acc: 0.5263\n",
      "Epoch 16/50\n",
      "57418/57418 [==============================] - 9s 162us/step - loss: 0.6700 - acc: 0.7437 - val_loss: 1.5774 - val_acc: 0.5191\n",
      "Epoch 17/50\n",
      "57418/57418 [==============================] - 9s 162us/step - loss: 0.6557 - acc: 0.7500 - val_loss: 1.5307 - val_acc: 0.5302\n",
      "Epoch 18/50\n",
      "57418/57418 [==============================] - 9s 162us/step - loss: 0.6259 - acc: 0.7632 - val_loss: 1.5878 - val_acc: 0.5208\n",
      "Epoch 19/50\n",
      "57418/57418 [==============================] - 9s 162us/step - loss: 0.6051 - acc: 0.7688 - val_loss: 1.6427 - val_acc: 0.5149\n",
      "Epoch 20/50\n",
      "57418/57418 [==============================] - 9s 162us/step - loss: 0.5804 - acc: 0.7782 - val_loss: 1.6350 - val_acc: 0.5143\n",
      "Epoch 21/50\n",
      "57418/57418 [==============================] - 9s 162us/step - loss: 0.5687 - acc: 0.7834 - val_loss: 1.6707 - val_acc: 0.5230\n",
      "Epoch 22/50\n",
      "57418/57418 [==============================] - 9s 162us/step - loss: 0.5532 - acc: 0.7902 - val_loss: 1.7106 - val_acc: 0.5274\n",
      "Epoch 23/50\n",
      "57418/57418 [==============================] - 9s 162us/step - loss: 0.5354 - acc: 0.7967 - val_loss: 1.7634 - val_acc: 0.5199\n",
      "Epoch 24/50\n",
      "57418/57418 [==============================] - 9s 162us/step - loss: 0.5229 - acc: 0.8025 - val_loss: 1.7452 - val_acc: 0.5219\n",
      "Epoch 25/50\n",
      "57418/57418 [==============================] - 9s 162us/step - loss: 0.5149 - acc: 0.8052 - val_loss: 1.7465 - val_acc: 0.5247\n",
      "Epoch 26/50\n",
      "57418/57418 [==============================] - 9s 162us/step - loss: 0.4925 - acc: 0.8127 - val_loss: 1.8489 - val_acc: 0.5272\n",
      "Epoch 27/50\n",
      "57418/57418 [==============================] - 9s 162us/step - loss: 0.4853 - acc: 0.8160 - val_loss: 1.8796 - val_acc: 0.5213\n",
      "Epoch 28/50\n",
      "57418/57418 [==============================] - 9s 162us/step - loss: 0.4748 - acc: 0.8211 - val_loss: 1.8830 - val_acc: 0.5163\n",
      "Epoch 29/50\n",
      "57418/57418 [==============================] - 9s 162us/step - loss: 0.4634 - acc: 0.8290 - val_loss: 1.8800 - val_acc: 0.5263\n",
      "Epoch 30/50\n",
      "57418/57418 [==============================] - 9s 162us/step - loss: 0.4522 - acc: 0.8307 - val_loss: 1.8664 - val_acc: 0.5202\n",
      "Epoch 31/50\n",
      "57418/57418 [==============================] - 9s 162us/step - loss: 0.4426 - acc: 0.8337 - val_loss: 1.8691 - val_acc: 0.5224\n",
      "Epoch 32/50\n",
      "57418/57418 [==============================] - 9s 162us/step - loss: 0.4367 - acc: 0.8382 - val_loss: 1.9512 - val_acc: 0.5169\n",
      "Epoch 33/50\n",
      "57418/57418 [==============================] - 9s 162us/step - loss: 0.4283 - acc: 0.8400 - val_loss: 1.9429 - val_acc: 0.5274\n",
      "Epoch 34/50\n",
      "57418/57418 [==============================] - 9s 163us/step - loss: 0.4221 - acc: 0.8427 - val_loss: 1.9027 - val_acc: 0.5160\n",
      "Epoch 35/50\n",
      "57418/57418 [==============================] - 9s 162us/step - loss: 0.4099 - acc: 0.8478 - val_loss: 1.9769 - val_acc: 0.5227\n",
      "Epoch 36/50\n",
      "57418/57418 [==============================] - 9s 162us/step - loss: 0.4064 - acc: 0.8494 - val_loss: 1.9523 - val_acc: 0.5280\n",
      "Epoch 37/50\n",
      "57418/57418 [==============================] - 9s 163us/step - loss: 0.3953 - acc: 0.8530 - val_loss: 2.0359 - val_acc: 0.5227\n",
      "Epoch 38/50\n",
      "57418/57418 [==============================] - 9s 163us/step - loss: 0.3985 - acc: 0.8535 - val_loss: 2.0311 - val_acc: 0.5155\n",
      "Epoch 39/50\n",
      "57418/57418 [==============================] - 9s 163us/step - loss: 0.3859 - acc: 0.8576 - val_loss: 2.0722 - val_acc: 0.5219\n",
      "Epoch 40/50\n",
      "57418/57418 [==============================] - 9s 163us/step - loss: 0.3770 - acc: 0.8602 - val_loss: 2.0269 - val_acc: 0.5155\n",
      "Epoch 41/50\n",
      "57418/57418 [==============================] - 9s 163us/step - loss: 0.3724 - acc: 0.8630 - val_loss: 2.0066 - val_acc: 0.5249\n",
      "Epoch 42/50\n",
      "57418/57418 [==============================] - 9s 163us/step - loss: 0.3719 - acc: 0.8626 - val_loss: 2.0576 - val_acc: 0.5205\n",
      "Epoch 43/50\n",
      "57418/57418 [==============================] - 9s 163us/step - loss: 0.3627 - acc: 0.8665 - val_loss: 2.0780 - val_acc: 0.5247\n",
      "Epoch 44/50\n",
      "57418/57418 [==============================] - 9s 162us/step - loss: 0.3635 - acc: 0.8664 - val_loss: 2.0903 - val_acc: 0.5177\n",
      "Epoch 45/50\n",
      "57418/57418 [==============================] - 9s 162us/step - loss: 0.3596 - acc: 0.8678 - val_loss: 2.0816 - val_acc: 0.5185\n",
      "Epoch 46/50\n",
      "57418/57418 [==============================] - 9s 162us/step - loss: 0.3522 - acc: 0.8712 - val_loss: 2.0891 - val_acc: 0.5174\n",
      "Epoch 47/50\n",
      "57418/57418 [==============================] - 9s 163us/step - loss: 0.3464 - acc: 0.8725 - val_loss: 2.1138 - val_acc: 0.5202\n",
      "Epoch 48/50\n",
      "57418/57418 [==============================] - 9s 163us/step - loss: 0.3373 - acc: 0.8765 - val_loss: 2.1792 - val_acc: 0.5219\n",
      "Epoch 49/50\n",
      "57418/57418 [==============================] - 9s 163us/step - loss: 0.3429 - acc: 0.8738 - val_loss: 2.2562 - val_acc: 0.5155\n",
      "Epoch 50/50\n",
      "57418/57418 [==============================] - 9s 162us/step - loss: 0.3323 - acc: 0.8795 - val_loss: 2.1394 - val_acc: 0.5224\n"
     ]
    }
   ],
   "source": [
    "#Fit the model\n",
    "history = model.fit(X_train,y_train,validation_data = (X_val, y_val), epochs=50,batch_size=50,verbose=1)"
   ]
  },
  {
   "cell_type": "code",
   "execution_count": 8,
   "metadata": {},
   "outputs": [
    {
     "name": "stdout",
     "output_type": "stream",
     "text": [
      "\n",
      "===> Results <===\n",
      "\n",
      "Training Accuracy: 87.95%\n",
      "Validation Accuracy: 52.24%\n"
     ]
    },
    {
     "data": {
      "image/png": "[encoded data removed]",
      "text/plain": [
       "<Figure size 432x288 with 1 Axes>"
      ]
     },
     "metadata": {
      "needs_background": "light"
     },
     "output_type": "display_data"
    },
    {
     "data": {
      "image/png": "[encoded data removed]",
      "text/plain": [
       "<Figure size 432x288 with 1 Axes>"
      ]
     },
     "metadata": {
      "needs_background": "light"
     },
     "output_type": "display_data"
    },
    {
     "name": "stdout",
     "output_type": "stream",
     "text": [
      "\n",
      "Evaluating model on test data\n",
      "3589/3589 [==============================] - 0s 51us/step\n",
      "\n",
      "Test Accuracy: 52.02%\n",
      "\n",
      "Loss: 2.19\n"
     ]
    }
   ],
   "source": [
    "# Save the model in HDF5 file \n",
    "model.save('models/shallow_model.h5')\n",
    "\n",
    "# Output training results\n",
    "\n",
    "train_acc = history.history['acc']\n",
    "val_acc = history.history['val_acc']\n",
    "\n",
    "print(\"\\n===> Results <===\")\n",
    "print(\"\\nTraining Accuracy: %.2f%%\" % ((train_acc[-1])*100))\n",
    "print(\"Validation Accuracy: %.2f%%\" % ((val_acc[-1])*100))\n",
    "\n",
    "# Plot accuracy result\n",
    "plt.plot(train_acc)\n",
    "plt.title('model accuracy plot')\n",
    "plt.ylabel('accuracy')\n",
    "plt.plot(val_acc)\n",
    "plt.xlabel('epoch')\n",
    "plt.legend(['train_acc', 'val_acc'], loc='lower right')\n",
    "plt.show()\n",
    "\n",
    "# Plot loss result\n",
    "plt.plot(history.history['loss'])\n",
    "plt.title('model loss plot')\n",
    "plt.ylabel('loss')\n",
    "plt.plot(history.history['val_loss'])\n",
    "plt.xlabel('epoch')\n",
    "plt.legend(['train_loss', 'test_loss'], loc='upper right')\n",
    "plt.show()\n",
    "\n",
    "#Evaluate model performance on test data\n",
    "print(\"\\nEvaluating model on test data\")\n",
    "scores = model.evaluate(X_test,y_test)\n",
    "\n",
    "print(\"\\nTest Accuracy: %.2f%%\" % (scores[1]*100))\n",
    "print(\"\\nLoss: %.2f\" % (scores[0]))"
   ]
  },
  {
   "cell_type": "code",
   "execution_count": 9,
   "metadata": {},
   "outputs": [
    {
     "data": {
      "image/png": "[encoded data removed]",
      "text/plain": [
       "<Figure size 432x432 with 2 Axes>"
      ]
     },
     "metadata": {
      "needs_background": "light"
     },
     "output_type": "display_data"
    }
   ],
   "source": [
    "print(\"\\nConfusion matrix for above results:\")\n",
    "\n",
    "y_prob = model.predict(X_test, batch_size=50, verbose=0)\n",
    "y_pred = [np.argmax(prob) for prob in y_prob]\n",
    "y_true = [np.argmax(true) for true in y_test]\n",
    "\n",
    "def plot_confusion_matrix(y_true, y_pred, cmap=plt.cm.Blues):\n",
    "    \n",
    "    cm = confusion_matrix(y_true, y_pred)\n",
    "    fig = plt.figure(figsize=(6,6))\n",
    "   # matplotlib.rcParams.update({'font.size': 14})\n",
    "    ax  = fig.add_subplot(111)\n",
    "    matrix = ax.imshow(cm, interpolation='nearest', cmap=cmap)\n",
    "    fig.colorbar(matrix) \n",
    "    \n",
    "    for i in range(0,7):\n",
    "        for j in range(0,7):  \n",
    "            ax.text(j,i,cm[i,j],va='center', ha='center')\n",
    "\n",
    "    ticks = np.arange(len(EMOTIONS))\n",
    "    ax.set_xticks(ticks)\n",
    "    ax.set_xticklabels(EMOTIONS, rotation=45)\n",
    "    ax.set_yticks(ticks)\n",
    "    ax.set_yticklabels(EMOTIONS)\n",
    "    plt.tight_layout()\n",
    "    plt.ylabel('True label')\n",
    "    plt.xlabel('Predicted label')\n",
    "    \n",
    "plot_confusion_matrix(y_true, y_pred, cmap=plt.cm.YlGnBu)"
   ]
  }
 ],
 "metadata": {
  "kernelspec": {
   "display_name": "Python 3",
   "language": "python",
   "name": "python3"
  },
  "language_info": {
   "codemirror_mode": {
    "name": "ipython",
    "version": 3
   },
   "file_extension": ".py",
   "mimetype": "text/x-python",
   "name": "python",
   "nbconvert_exporter": "python",
   "pygments_lexer": "ipython3",
   "version": "3.6.7"
  }
 },
 "nbformat": 4,
 "nbformat_minor": 2
}
