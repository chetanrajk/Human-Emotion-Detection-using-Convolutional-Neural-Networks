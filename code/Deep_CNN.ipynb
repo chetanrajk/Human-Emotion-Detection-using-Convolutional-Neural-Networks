{
 "cells": [
  {
   "cell_type": "markdown",
   "metadata": {},
   "source": [
    "# Deep CNN model"
   ]
  },
  {
   "cell_type": "code",
   "execution_count": 9,
   "metadata": {},
   "outputs": [],
   "source": [
    "import numpy as np\n",
    "import pandas as pd\n",
    "import keras\n",
    "from keras.models import Sequential\n",
    "from keras.layers import Dense, Activation, Dropout, Flatten, BatchNormalization\n",
    "from keras.layers import Conv2D, MaxPooling2D\n",
    "from keras.utils import np_utils\n",
    "import matplotlib.pyplot as plt\n",
    "import os.path\n",
    "from keras.models import load_model\n",
    "np.random.seed(7)\n",
    "from sklearn.metrics import confusion_matrix\n",
    "\n",
    "EMOTIONS = [\n",
    "  'Angry',\n",
    "  'Disgust',\n",
    "  'Fear',\n",
    "  'Happy',\n",
    "  'Sad',\n",
    "  'Surprise',\n",
    "  'Neutral',\n",
    "]"
   ]
  },
  {
   "cell_type": "code",
   "execution_count": 2,
   "metadata": {},
   "outputs": [
    {
     "name": "stdout",
     "output_type": "stream",
     "text": [
      "X_train shape: (57418, 48, 48) y_train shape: (57418,)\n",
      "X_test shape: (3589, 48, 48) y_test shape: (3589,)\n"
     ]
    }
   ],
   "source": [
    "X_train = np.load('data files/X_train.npy')\n",
    "y_train = np.load('data files/y_train.npy')\n",
    "\n",
    "X_test = np.load('data files/X_test.npy')\n",
    "y_test = np.load('data files/y_test.npy')\n",
    "\n",
    "X_val = np.load('data files/X_val.npy')\n",
    "y_val = np.load('data files/y_val.npy')\n",
    "\n",
    "print(\"X_train shape:\", X_train.shape, \"y_train shape:\", y_train.shape)\n",
    "print(\"X_test shape:\", X_test.shape, \"y_test shape:\", y_test.shape)"
   ]
  },
  {
   "cell_type": "code",
   "execution_count": 3,
   "metadata": {},
   "outputs": [
    {
     "name": "stdout",
     "output_type": "stream",
     "text": [
      "X_train shape: (57418, 48, 48, 1) y_train shape: (57418,)\n",
      "X_val shape: (3589, 48, 48, 1) y_val shape: (3589,)\n",
      "X_test shape: (3589, 48, 48, 1) y_test shape: (3589,)\n"
     ]
    }
   ],
   "source": [
    "#Prepare inputs for Keras CNN model\n",
    "\n",
    "X_train = X_train.reshape(X_train.shape[0], 48, 48, 1)\n",
    "X_train = X_train.astype('float32')\n",
    "\n",
    "X_val = X_val.reshape(X_val.shape[0], 48, 48, 1)\n",
    "X_val = X_val.astype('float32')\n",
    "\n",
    "X_test = X_test.reshape(X_test.shape[0], 48, 48, 1)\n",
    "X_test = X_test.astype('float32')\n",
    "\n",
    "print(\"X_train shape:\", X_train.shape, \"y_train shape:\", y_train.shape)\n",
    "print(\"X_val shape:\", X_val.shape, \"y_val shape:\", y_val.shape)\n",
    "print(\"X_test shape:\", X_test.shape, \"y_test shape:\", y_test.shape)\n",
    "\n",
    "y_train = np_utils.to_categorical(y_train, 7)\n",
    "y_val = np_utils.to_categorical(y_val, 7)\n",
    "y_test = np_utils.to_categorical(y_test, 7)\n",
    "\n",
    "num_classes = y_test.shape[1]"
   ]
  },
  {
   "cell_type": "code",
   "execution_count": null,
   "metadata": {},
   "outputs": [],
   "source": [
    "#Load the model if trained model present and evaluate directly on test data\n",
    "\n",
    "if os.path.exists('models/deep_model.h5'):\n",
    "    model = load_model('models/deep_model.h5')\n",
    "else:\n",
    "    print('No model to load !')"
   ]
  },
  {
   "cell_type": "code",
   "execution_count": 5,
   "metadata": {},
   "outputs": [],
   "source": [
    "# Visualize model plots and save in image format\n",
    "from keras.utils import plot_model\n",
    "import pydot\n",
    "plot_model(model, to_file='models/deep_model.png', show_shapes=True)"
   ]
  },
  {
   "cell_type": "code",
   "execution_count": 4,
   "metadata": {},
   "outputs": [
    {
     "name": "stdout",
     "output_type": "stream",
     "text": [
      "_________________________________________________________________\n",
      "Layer (type)                 Output Shape              Param #   \n",
      "=================================================================\n",
      "conv2d_1 (Conv2D)            (None, 48, 48, 64)        640       \n",
      "_________________________________________________________________\n",
      "batch_normalization_1 (Batch (None, 48, 48, 64)        256       \n",
      "_________________________________________________________________\n",
      "activation_1 (Activation)    (None, 48, 48, 64)        0         \n",
      "_________________________________________________________________\n",
      "max_pooling2d_1 (MaxPooling2 (None, 24, 24, 64)        0         \n",
      "_________________________________________________________________\n",
      "dropout_1 (Dropout)          (None, 24, 24, 64)        0         \n",
      "_________________________________________________________________\n",
      "conv2d_2 (Conv2D)            (None, 24, 24, 128)       204928    \n",
      "_________________________________________________________________\n",
      "batch_normalization_2 (Batch (None, 24, 24, 128)       512       \n",
      "_________________________________________________________________\n",
      "activation_2 (Activation)    (None, 24, 24, 128)       0         \n",
      "_________________________________________________________________\n",
      "max_pooling2d_2 (MaxPooling2 (None, 12, 12, 128)       0         \n",
      "_________________________________________________________________\n",
      "dropout_2 (Dropout)          (None, 12, 12, 128)       0         \n",
      "_________________________________________________________________\n",
      "conv2d_3 (Conv2D)            (None, 12, 12, 512)       590336    \n",
      "_________________________________________________________________\n",
      "batch_normalization_3 (Batch (None, 12, 12, 512)       2048      \n",
      "_________________________________________________________________\n",
      "activation_3 (Activation)    (None, 12, 12, 512)       0         \n",
      "_________________________________________________________________\n",
      "max_pooling2d_3 (MaxPooling2 (None, 6, 6, 512)         0         \n",
      "_________________________________________________________________\n",
      "dropout_3 (Dropout)          (None, 6, 6, 512)         0         \n",
      "_________________________________________________________________\n",
      "conv2d_4 (Conv2D)            (None, 6, 6, 512)         2359808   \n",
      "_________________________________________________________________\n",
      "batch_normalization_4 (Batch (None, 6, 6, 512)         2048      \n",
      "_________________________________________________________________\n",
      "activation_4 (Activation)    (None, 6, 6, 512)         0         \n",
      "_________________________________________________________________\n",
      "max_pooling2d_4 (MaxPooling2 (None, 3, 3, 512)         0         \n",
      "_________________________________________________________________\n",
      "dropout_4 (Dropout)          (None, 3, 3, 512)         0         \n",
      "_________________________________________________________________\n",
      "flatten_1 (Flatten)          (None, 4608)              0         \n",
      "_________________________________________________________________\n",
      "dense_1 (Dense)              (None, 256)               1179904   \n",
      "_________________________________________________________________\n",
      "batch_normalization_5 (Batch (None, 256)               1024      \n",
      "_________________________________________________________________\n",
      "activation_5 (Activation)    (None, 256)               0         \n",
      "_________________________________________________________________\n",
      "dropout_5 (Dropout)          (None, 256)               0         \n",
      "_________________________________________________________________\n",
      "dense_2 (Dense)              (None, 512)               131584    \n",
      "_________________________________________________________________\n",
      "batch_normalization_6 (Batch (None, 512)               2048      \n",
      "_________________________________________________________________\n",
      "activation_6 (Activation)    (None, 512)               0         \n",
      "_________________________________________________________________\n",
      "dropout_6 (Dropout)          (None, 512)               0         \n",
      "_________________________________________________________________\n",
      "dense_3 (Dense)              (None, 7)                 3591      \n",
      "_________________________________________________________________\n",
      "activation_7 (Activation)    (None, 7)                 0         \n",
      "=================================================================\n",
      "Total params: 4,478,727\n",
      "Trainable params: 4,474,759\n",
      "Non-trainable params: 3,968\n",
      "_________________________________________________________________\n"
     ]
    }
   ],
   "source": [
    "#Build CNN model\n",
    "\n",
    "model = Sequential()\n",
    "\n",
    "model.add(Conv2D(64, (3,3), padding='same', input_shape=(48,48,1)))\n",
    "model.add(BatchNormalization())\n",
    "model.add(Activation('relu'))\n",
    "model.add(MaxPooling2D(pool_size=(2,2)))\n",
    "model.add(Dropout(0.2))\n",
    "\n",
    "model.add(Conv2D(128, (5,5), padding='same'))\n",
    "model.add(BatchNormalization())\n",
    "model.add(Activation('relu'))\n",
    "model.add(MaxPooling2D(pool_size=(2,2)))\n",
    "model.add(Dropout(0.25))\n",
    "\n",
    "model.add(Conv2D(512, (3,3), padding='same'))\n",
    "model.add(BatchNormalization())\n",
    "model.add(Activation('relu'))\n",
    "model.add(MaxPooling2D(pool_size=(2,2)))\n",
    "model.add(Dropout(0.25))\n",
    "\n",
    "model.add(Conv2D(512, (3,3), padding='same'))\n",
    "model.add(BatchNormalization())\n",
    "model.add(Activation('relu'))\n",
    "model.add(MaxPooling2D(pool_size=(2,2)))\n",
    "model.add(Dropout(0.25))\n",
    "\n",
    "model.add(Flatten())\n",
    "\n",
    "model.add(Dense(256))\n",
    "model.add(BatchNormalization())\n",
    "model.add(Activation('relu'))\n",
    "model.add(Dropout(0.3))\n",
    "\n",
    "model.add(Dense(512))\n",
    "model.add(BatchNormalization())\n",
    "model.add(Activation('relu'))\n",
    "model.add(Dropout(0.3))\n",
    "\n",
    "model.add(Dense(num_classes))\n",
    "model.add(Activation('softmax'))\n",
    "\n",
    "model.summary()"
   ]
  },
  {
   "cell_type": "code",
   "execution_count": 6,
   "metadata": {},
   "outputs": [],
   "source": [
    "#Compile the model\n",
    "model.compile(loss='categorical_crossentropy',\n",
    "             optimizer='adam',\n",
    "             metrics=['accuracy'])"
   ]
  },
  {
   "cell_type": "code",
   "execution_count": 7,
   "metadata": {},
   "outputs": [
    {
     "name": "stdout",
     "output_type": "stream",
     "text": [
      "Train on 57418 samples, validate on 3589 samples\n",
      "Epoch 1/50\n",
      "57418/57418 [==============================] - 31s 534us/step - loss: 1.5649 - acc: 0.4028 - val_loss: 1.2508 - val_acc: 0.5308\n",
      "Epoch 2/50\n",
      "57418/57418 [==============================] - 28s 482us/step - loss: 1.2317 - acc: 0.5288 - val_loss: 1.1400 - val_acc: 0.5522\n",
      "Epoch 3/50\n",
      "57418/57418 [==============================] - 28s 482us/step - loss: 1.1381 - acc: 0.5693 - val_loss: 1.1109 - val_acc: 0.5762\n",
      "Epoch 4/50\n",
      "57418/57418 [==============================] - 28s 482us/step - loss: 1.0762 - acc: 0.5932 - val_loss: 1.0637 - val_acc: 0.5974\n",
      "Epoch 5/50\n",
      "57418/57418 [==============================] - 28s 480us/step - loss: 1.0261 - acc: 0.6133 - val_loss: 1.0040 - val_acc: 0.6255\n",
      "Epoch 6/50\n",
      "57418/57418 [==============================] - 28s 482us/step - loss: 0.9723 - acc: 0.6308 - val_loss: 0.9931 - val_acc: 0.6333\n",
      "Epoch 7/50\n",
      "57418/57418 [==============================] - 28s 483us/step - loss: 0.9233 - acc: 0.6537 - val_loss: 0.9715 - val_acc: 0.6478\n",
      "Epoch 8/50\n",
      "57418/57418 [==============================] - 28s 481us/step - loss: 0.8697 - acc: 0.6732 - val_loss: 0.9666 - val_acc: 0.6386\n",
      "Epoch 9/50\n",
      "57418/57418 [==============================] - 28s 482us/step - loss: 0.8227 - acc: 0.6900 - val_loss: 0.9744 - val_acc: 0.6358\n",
      "Epoch 10/50\n",
      "57418/57418 [==============================] - 28s 480us/step - loss: 0.7732 - acc: 0.7082 - val_loss: 0.9698 - val_acc: 0.6447\n",
      "Epoch 11/50\n",
      "57418/57418 [==============================] - 28s 480us/step - loss: 0.7247 - acc: 0.7295 - val_loss: 0.9475 - val_acc: 0.6645\n",
      "Epoch 12/50\n",
      "57418/57418 [==============================] - 28s 482us/step - loss: 0.6791 - acc: 0.7473 - val_loss: 1.0167 - val_acc: 0.6461\n",
      "Epoch 13/50\n",
      "57418/57418 [==============================] - 28s 481us/step - loss: 0.6346 - acc: 0.7635 - val_loss: 0.9661 - val_acc: 0.6634\n",
      "Epoch 14/50\n",
      "57418/57418 [==============================] - 28s 481us/step - loss: 0.6008 - acc: 0.7762 - val_loss: 1.0231 - val_acc: 0.6615\n",
      "Epoch 15/50\n",
      "57418/57418 [==============================] - 28s 482us/step - loss: 0.5606 - acc: 0.7908 - val_loss: 0.9967 - val_acc: 0.6670\n",
      "Epoch 16/50\n",
      "57418/57418 [==============================] - 28s 481us/step - loss: 0.5228 - acc: 0.8074 - val_loss: 1.0077 - val_acc: 0.6673\n",
      "Epoch 17/50\n",
      "57418/57418 [==============================] - 28s 479us/step - loss: 0.4915 - acc: 0.8182 - val_loss: 1.0510 - val_acc: 0.6709\n",
      "Epoch 18/50\n",
      "57418/57418 [==============================] - 28s 479us/step - loss: 0.4647 - acc: 0.8297 - val_loss: 1.0877 - val_acc: 0.6615\n",
      "Epoch 19/50\n",
      "57418/57418 [==============================] - 28s 480us/step - loss: 0.4420 - acc: 0.8372 - val_loss: 1.1436 - val_acc: 0.6648\n",
      "Epoch 20/50\n",
      "57418/57418 [==============================] - 28s 479us/step - loss: 0.4137 - acc: 0.8466 - val_loss: 1.1459 - val_acc: 0.6559\n",
      "Epoch 21/50\n",
      "57418/57418 [==============================] - 28s 479us/step - loss: 0.3895 - acc: 0.8558 - val_loss: 1.1212 - val_acc: 0.6668\n",
      "Epoch 22/50\n",
      "57418/57418 [==============================] - 27s 479us/step - loss: 0.3797 - acc: 0.8613 - val_loss: 1.1361 - val_acc: 0.6665\n",
      "Epoch 23/50\n",
      "57418/57418 [==============================] - 27s 479us/step - loss: 0.3617 - acc: 0.8688 - val_loss: 1.1712 - val_acc: 0.6693\n",
      "Epoch 24/50\n",
      "57418/57418 [==============================] - 28s 480us/step - loss: 0.3461 - acc: 0.8741 - val_loss: 1.1828 - val_acc: 0.6615\n",
      "Epoch 25/50\n",
      "57418/57418 [==============================] - 28s 479us/step - loss: 0.3319 - acc: 0.8789 - val_loss: 1.2154 - val_acc: 0.6648\n",
      "Epoch 26/50\n",
      "57418/57418 [==============================] - 27s 479us/step - loss: 0.3202 - acc: 0.8820 - val_loss: 1.2489 - val_acc: 0.6662\n",
      "Epoch 27/50\n",
      "57418/57418 [==============================] - 28s 480us/step - loss: 0.3069 - acc: 0.8887 - val_loss: 1.2709 - val_acc: 0.6687\n",
      "Epoch 28/50\n",
      "57418/57418 [==============================] - 27s 479us/step - loss: 0.3013 - acc: 0.8915 - val_loss: 1.2536 - val_acc: 0.6690\n",
      "Epoch 29/50\n",
      "57418/57418 [==============================] - 27s 479us/step - loss: 0.2904 - acc: 0.8942 - val_loss: 1.2839 - val_acc: 0.6715\n",
      "Epoch 30/50\n",
      "57418/57418 [==============================] - 27s 478us/step - loss: 0.2770 - acc: 0.8995 - val_loss: 1.2992 - val_acc: 0.6704\n",
      "Epoch 31/50\n",
      "57418/57418 [==============================] - 27s 478us/step - loss: 0.2754 - acc: 0.9015 - val_loss: 1.3127 - val_acc: 0.6707\n",
      "Epoch 32/50\n",
      "57418/57418 [==============================] - 28s 479us/step - loss: 0.2646 - acc: 0.9058 - val_loss: 1.3084 - val_acc: 0.6673\n",
      "Epoch 33/50\n",
      "57418/57418 [==============================] - 28s 479us/step - loss: 0.2564 - acc: 0.9083 - val_loss: 1.3601 - val_acc: 0.6707\n",
      "Epoch 34/50\n",
      "57418/57418 [==============================] - 27s 478us/step - loss: 0.2493 - acc: 0.9116 - val_loss: 1.3605 - val_acc: 0.6654\n",
      "Epoch 35/50\n",
      "57418/57418 [==============================] - 28s 479us/step - loss: 0.2420 - acc: 0.9122 - val_loss: 1.3830 - val_acc: 0.6695\n",
      "Epoch 36/50\n",
      "57418/57418 [==============================] - 28s 479us/step - loss: 0.2385 - acc: 0.9151 - val_loss: 1.4667 - val_acc: 0.6690\n",
      "Epoch 37/50\n",
      "57418/57418 [==============================] - 28s 479us/step - loss: 0.2299 - acc: 0.9179 - val_loss: 1.3501 - val_acc: 0.6648\n",
      "Epoch 38/50\n",
      "57418/57418 [==============================] - 27s 479us/step - loss: 0.2284 - acc: 0.9189 - val_loss: 1.3569 - val_acc: 0.6570\n",
      "Epoch 39/50\n",
      "57418/57418 [==============================] - 27s 478us/step - loss: 0.2217 - acc: 0.9216 - val_loss: 1.3867 - val_acc: 0.6701\n",
      "Epoch 40/50\n",
      "57418/57418 [==============================] - 27s 479us/step - loss: 0.2183 - acc: 0.9208 - val_loss: 1.3715 - val_acc: 0.6712\n",
      "Epoch 41/50\n",
      "57418/57418 [==============================] - 28s 479us/step - loss: 0.2081 - acc: 0.9265 - val_loss: 1.3971 - val_acc: 0.6684\n",
      "Epoch 42/50\n",
      "57418/57418 [==============================] - 28s 479us/step - loss: 0.2074 - acc: 0.9271 - val_loss: 1.4074 - val_acc: 0.6754\n",
      "Epoch 43/50\n",
      "57418/57418 [==============================] - 28s 479us/step - loss: 0.2038 - acc: 0.9273 - val_loss: 1.5002 - val_acc: 0.6682\n",
      "Epoch 44/50\n",
      "57418/57418 [==============================] - 27s 478us/step - loss: 0.1994 - acc: 0.9295 - val_loss: 1.4804 - val_acc: 0.6695\n",
      "Epoch 45/50\n",
      "57418/57418 [==============================] - 27s 478us/step - loss: 0.1981 - acc: 0.9296 - val_loss: 1.4913 - val_acc: 0.6684\n",
      "Epoch 46/50\n",
      "57418/57418 [==============================] - 28s 485us/step - loss: 0.1902 - acc: 0.9343 - val_loss: 1.5352 - val_acc: 0.6629\n",
      "Epoch 47/50\n",
      "57418/57418 [==============================] - 27s 479us/step - loss: 0.1909 - acc: 0.9329 - val_loss: 1.4256 - val_acc: 0.6740\n",
      "Epoch 48/50\n",
      "57418/57418 [==============================] - 28s 479us/step - loss: 0.1873 - acc: 0.9332 - val_loss: 1.5148 - val_acc: 0.6676\n",
      "Epoch 49/50\n",
      "57418/57418 [==============================] - 28s 479us/step - loss: 0.1824 - acc: 0.9356 - val_loss: 1.4716 - val_acc: 0.6693\n",
      "Epoch 50/50\n",
      "57418/57418 [==============================] - 28s 479us/step - loss: 0.1819 - acc: 0.9357 - val_loss: 1.5335 - val_acc: 0.6615\n"
     ]
    }
   ],
   "source": [
    "#Fit the model\n",
    "history = model.fit(X_train,y_train,validation_data = (X_val, y_val), epochs=50,batch_size=50,verbose=1)"
   ]
  },
  {
   "cell_type": "code",
   "execution_count": 8,
   "metadata": {},
   "outputs": [
    {
     "name": "stdout",
     "output_type": "stream",
     "text": [
      "\n",
      "===> Results <===\n",
      "\n",
      "Training Accuracy: 93.57%\n",
      "Validation Accuracy: 66.15%\n"
     ]
    },
    {
     "data": {
      "image/png": "[encoded data removed]",
      "text/plain": [
       "<Figure size 432x288 with 1 Axes>"
      ]
     },
     "metadata": {
      "needs_background": "light"
     },
     "output_type": "display_data"
    },
    {
     "data": {
      "image/png": "[encoded data removed]",
      "text/plain": [
       "<Figure size 432x288 with 1 Axes>"
      ]
     },
     "metadata": {
      "needs_background": "light"
     },
     "output_type": "display_data"
    },
    {
     "name": "stdout",
     "output_type": "stream",
     "text": [
      "\n",
      "Evaluating model on test data\n",
      "3589/3589 [==============================] - 1s 169us/step\n",
      "\n",
      "Test Accuracy: 65.23%\n",
      "\n",
      "Loss: 1.64\n"
     ]
    }
   ],
   "source": [
    "# Save the model in HDF5 file \n",
    "model.save('models/deep_model.h5')\n",
    "\n",
    "# Output training results\n",
    "\n",
    "train_acc = history.history['acc']\n",
    "val_acc = history.history['val_acc']\n",
    "\n",
    "print(\"\\n===> Results <===\")\n",
    "print(\"\\nTraining Accuracy: %.2f%%\" % ((train_acc[-1])*100))\n",
    "print(\"Validation Accuracy: %.2f%%\" % ((val_acc[-1])*100))\n",
    "\n",
    "# Plot accuracy result\n",
    "plt.plot(train_acc)\n",
    "plt.title('model accuracy plot')\n",
    "plt.ylabel('accuracy')\n",
    "plt.plot(val_acc)\n",
    "plt.xlabel('epoch')\n",
    "plt.legend(['train_acc', 'val_acc'], loc='lower right')\n",
    "plt.show()\n",
    "\n",
    "# Plot loss result\n",
    "plt.plot(history.history['loss'])\n",
    "plt.title('model loss plot')\n",
    "plt.ylabel('loss')\n",
    "plt.plot(history.history['val_loss'])\n",
    "plt.xlabel('epoch')\n",
    "plt.legend(['train_loss', 'test_loss'], loc='upper right')\n",
    "plt.show()\n",
    "\n",
    "#Evaluate model performance on test data\n",
    "\n",
    "print(\"\\nEvaluating model on test data\")\n",
    "scores = model.evaluate(X_test,y_test)\n",
    "\n",
    "print(\"\\nTest Accuracy: %.2f%%\" % (scores[1]*100))\n",
    "print(\"\\nLoss: %.2f\" % (scores[0]))"
   ]
  },
  {
   "cell_type": "code",
   "execution_count": 10,
   "metadata": {},
   "outputs": [
    {
     "name": "stdout",
     "output_type": "stream",
     "text": [
      "\n",
      "Confusion matrix for above results:\n"
     ]
    },
    {
     "data": {
      "image/png": "[encoded data removed]",
      "text/plain": [
       "<Figure size 432x432 with 2 Axes>"
      ]
     },
     "metadata": {
      "needs_background": "light"
     },
     "output_type": "display_data"
    }
   ],
   "source": [
    "print(\"\\nConfusion matrix for above results:\")\n",
    "\n",
    "y_prob = model.predict(X_test, batch_size=50, verbose=0)\n",
    "y_pred = [np.argmax(prob) for prob in y_prob]\n",
    "y_true = [np.argmax(true) for true in y_test]\n",
    "\n",
    "def plot_confusion_matrix(y_true, y_pred, cmap=plt.cm.Blues):\n",
    "    \n",
    "    cm = confusion_matrix(y_true, y_pred)\n",
    "    fig = plt.figure(figsize=(6,6))\n",
    "   # matplotlib.rcParams.update({'font.size': 14})\n",
    "    ax  = fig.add_subplot(111)\n",
    "    matrix = ax.imshow(cm, interpolation='nearest', cmap=cmap)\n",
    "    fig.colorbar(matrix) \n",
    "    \n",
    "    for i in range(0,7):\n",
    "        for j in range(0,7):  \n",
    "            ax.text(j,i,cm[i,j],va='center', ha='center')\n",
    "\n",
    "    ticks = np.arange(len(EMOTIONS))\n",
    "    ax.set_xticks(ticks)\n",
    "    ax.set_xticklabels(EMOTIONS, rotation=45)\n",
    "    ax.set_yticks(ticks)\n",
    "    ax.set_yticklabels(EMOTIONS)\n",
    "    plt.tight_layout()\n",
    "    plt.ylabel('True label')\n",
    "    plt.xlabel('Predicted label')\n",
    "    \n",
    "plot_confusion_matrix(y_true, y_pred, cmap=plt.cm.YlGnBu)"
   ]
  }
 ],
 "metadata": {
  "kernelspec": {
   "display_name": "Python 3",
   "language": "python",
   "name": "python3"
  },
  "language_info": {
   "codemirror_mode": {
    "name": "ipython",
    "version": 3
   },
   "file_extension": ".py",
   "mimetype": "text/x-python",
   "name": "python",
   "nbconvert_exporter": "python",
   "pygments_lexer": "ipython3",
   "version": "3.6.7"
  }
 },
 "nbformat": 4,
 "nbformat_minor": 2
}
