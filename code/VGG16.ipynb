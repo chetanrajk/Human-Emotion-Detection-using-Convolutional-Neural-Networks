{
 "cells": [
  {
   "cell_type": "markdown",
   "metadata": {},
   "source": [
    "# Transfer Learning: VGG16"
   ]
  },
  {
   "cell_type": "code",
   "execution_count": 1,
   "metadata": {},
   "outputs": [
    {
     "name": "stderr",
     "output_type": "stream",
     "text": [
      "Using TensorFlow backend.\n"
     ]
    }
   ],
   "source": [
    "import numpy as np\n",
    "import pandas as pd\n",
    "import keras\n",
    "from keras.applications import VGG16\n",
    "from keras.models import Sequential\n",
    "from keras.layers import Dense, Activation, Dropout, Flatten, BatchNormalization, Input\n",
    "from keras.layers import Conv2D, MaxPooling2D\n",
    "from keras.models import Model\n",
    "from keras.utils import np_utils\n",
    "from keras.optimizers import Adamax\n",
    "import matplotlib.pyplot as plt\n",
    "import os.path\n",
    "from keras.models import load_model\n",
    "import sys\n",
    "np.random.seed(7)\n",
    "from sklearn.metrics import confusion_matrix\n",
    "\n",
    "EMOTIONS = [\n",
    "  'Angry',\n",
    "  'Disgust',\n",
    "  'Fear',\n",
    "  'Happy',\n",
    "  'Sad',\n",
    "  'Surprise',\n",
    "  'Neutral',\n",
    "]"
   ]
  },
  {
   "cell_type": "code",
   "execution_count": 2,
   "metadata": {},
   "outputs": [
    {
     "name": "stdout",
     "output_type": "stream",
     "text": [
      "X_train shape: (57418, 48, 48) y_train shape: (57418,)\n",
      "X_test shape: (3589, 48, 48) y_test shape: (3589,)\n"
     ]
    }
   ],
   "source": [
    "X_train = np.load('data files/X_train.npy')\n",
    "y_train = np.load('data files/y_train.npy')\n",
    "\n",
    "X_test = np.load('data files/X_test.npy')\n",
    "y_test = np.load('data files/y_test.npy')\n",
    "\n",
    "X_val = np.load('data files/X_val.npy')\n",
    "y_val = np.load('data files/y_val.npy')\n",
    "\n",
    "print(\"X_train shape:\", X_train.shape, \"y_train shape:\", y_train.shape)\n",
    "print(\"X_test shape:\", X_test.shape, \"y_test shape:\", y_test.shape)"
   ]
  },
  {
   "cell_type": "code",
   "execution_count": 3,
   "metadata": {},
   "outputs": [
    {
     "name": "stdout",
     "output_type": "stream",
     "text": [
      "X_train shape: (57418, 48, 48, 1) y_train shape: (57418,)\n",
      "X_val shape: (3589, 48, 48, 1) y_val shape: (3589,)\n",
      "X_test shape: (3589, 48, 48, 1) y_test shape: (3589,)\n"
     ]
    }
   ],
   "source": [
    "#Prepare inputs for Keras CNN model\n",
    "\n",
    "X_train = X_train.reshape(X_train.shape[0], 48, 48, 1)\n",
    "X_train = X_train.astype('float32')\n",
    "\n",
    "X_val = X_val.reshape(X_val.shape[0], 48, 48, 1)\n",
    "X_val = X_val.astype('float32')\n",
    "\n",
    "X_test = X_test.reshape(X_test.shape[0], 48, 48, 1)\n",
    "X_test = X_test.astype('float32')\n",
    "\n",
    "print(\"X_train shape:\", X_train.shape, \"y_train shape:\", y_train.shape)\n",
    "print(\"X_val shape:\", X_val.shape, \"y_val shape:\", y_val.shape)\n",
    "print(\"X_test shape:\", X_test.shape, \"y_test shape:\", y_test.shape)\n",
    "\n",
    "y_train = np_utils.to_categorical(y_train, 7)\n",
    "y_val = np_utils.to_categorical(y_val, 7)\n",
    "y_test = np_utils.to_categorical(y_test, 7)\n",
    "\n",
    "num_classes = y_test.shape[1]"
   ]
  },
  {
   "cell_type": "code",
   "execution_count": null,
   "metadata": {},
   "outputs": [],
   "source": [
    "#Load the model if trained model present and evaluate directly on test data\n",
    "\n",
    "if os.path.exists('models/vgg16_model_tunned.h5'):\n",
    "    model = load_model('models/vgg16_model_tunned.h5')\n",
    "    print('Model loaded Successfully!')\n",
    "else:\n",
    "    print('No model to load !')"
   ]
  },
  {
   "cell_type": "code",
   "execution_count": 4,
   "metadata": {},
   "outputs": [
    {
     "name": "stdout",
     "output_type": "stream",
     "text": [
      "X_train shape: (57418, 48, 48, 3) y_train shape: (57418, 7)\n",
      "X_val shape: (3589, 48, 48, 3) y_val shape: (3589, 7)\n",
      "X_test shape: (3589, 48, 48, 3) y_test shape: (3589, 7)\n"
     ]
    }
   ],
   "source": [
    "#Convert inputs from 1-channel images to 3-channel for VGG16 model\n",
    "\n",
    "X_train_expanded = np.zeros((X_train.shape[0], X_train.shape[1], X_train.shape[2], 3))\n",
    "X_train_expanded[:, :, :, 0] = X_train[:, :, :, 0]\n",
    "X_train_expanded[:, :, :, 1] = X_train[:, :, :, 0]\n",
    "X_train_expanded[:, :, :, 2] = X_train[:, :, :, 0]\n",
    "\n",
    "X_val_expanded = np.zeros((X_val.shape[0], X_val.shape[1], X_val.shape[2], 3))\n",
    "X_val_expanded[:, :, :, 0] = X_val[:, :, :, 0]\n",
    "X_val_expanded[:, :, :, 1] = X_val[:, :, :, 0]\n",
    "X_val_expanded[:, :, :, 2] = X_val[:, :, :, 0]\n",
    "\n",
    "X_test_expanded = np.zeros((X_test.shape[0], X_test.shape[1], X_test.shape[2], 3))\n",
    "X_test_expanded[:, :, :, 0] = X_test[:, :, :, 0]\n",
    "X_test_expanded[:, :, :, 1] = X_test[:, :, :, 0]\n",
    "X_test_expanded[:, :, :, 2] = X_test[:, :, :, 0]\n",
    "\n",
    "X_train = X_train_expanded\n",
    "X_val = X_val_expanded\n",
    "X_test = X_test_expanded\n",
    "\n",
    "N_train = int(len(X_train))\n",
    "N_val = int(len(X_val))\n",
    "N_test = int(len(X_test))\n",
    "\n",
    "print(\"X_train shape:\", X_train.shape, \"y_train shape:\", y_train.shape)\n",
    "print(\"X_val shape:\", X_val.shape, \"y_val shape:\", y_val.shape)\n",
    "print(\"X_test shape:\", X_test.shape, \"y_test shape:\", y_test.shape)"
   ]
  },
  {
   "cell_type": "markdown",
   "metadata": {},
   "source": [
    "### VGG16 as Feature Extracter"
   ]
  },
  {
   "cell_type": "code",
   "execution_count": 5,
   "metadata": {},
   "outputs": [
    {
     "name": "stdout",
     "output_type": "stream",
     "text": [
      "_________________________________________________________________\n",
      "Layer (type)                 Output Shape              Param #   \n",
      "=================================================================\n",
      "input_1 (InputLayer)         (None, 48, 48, 3)         0         \n",
      "_________________________________________________________________\n",
      "block1_conv1 (Conv2D)        (None, 48, 48, 64)        1792      \n",
      "_________________________________________________________________\n",
      "block1_conv2 (Conv2D)        (None, 48, 48, 64)        36928     \n",
      "_________________________________________________________________\n",
      "block1_pool (MaxPooling2D)   (None, 24, 24, 64)        0         \n",
      "_________________________________________________________________\n",
      "block2_conv1 (Conv2D)        (None, 24, 24, 128)       73856     \n",
      "_________________________________________________________________\n",
      "block2_conv2 (Conv2D)        (None, 24, 24, 128)       147584    \n",
      "_________________________________________________________________\n",
      "block2_pool (MaxPooling2D)   (None, 12, 12, 128)       0         \n",
      "_________________________________________________________________\n",
      "block3_conv1 (Conv2D)        (None, 12, 12, 256)       295168    \n",
      "_________________________________________________________________\n",
      "block3_conv2 (Conv2D)        (None, 12, 12, 256)       590080    \n",
      "_________________________________________________________________\n",
      "block3_conv3 (Conv2D)        (None, 12, 12, 256)       590080    \n",
      "_________________________________________________________________\n",
      "block3_pool (MaxPooling2D)   (None, 6, 6, 256)         0         \n",
      "_________________________________________________________________\n",
      "block4_conv1 (Conv2D)        (None, 6, 6, 512)         1180160   \n",
      "_________________________________________________________________\n",
      "block4_conv2 (Conv2D)        (None, 6, 6, 512)         2359808   \n",
      "_________________________________________________________________\n",
      "block4_conv3 (Conv2D)        (None, 6, 6, 512)         2359808   \n",
      "_________________________________________________________________\n",
      "block4_pool (MaxPooling2D)   (None, 3, 3, 512)         0         \n",
      "_________________________________________________________________\n",
      "block5_conv1 (Conv2D)        (None, 3, 3, 512)         2359808   \n",
      "_________________________________________________________________\n",
      "block5_conv2 (Conv2D)        (None, 3, 3, 512)         2359808   \n",
      "_________________________________________________________________\n",
      "block5_conv3 (Conv2D)        (None, 3, 3, 512)         2359808   \n",
      "_________________________________________________________________\n",
      "block5_pool (MaxPooling2D)   (None, 1, 1, 512)         0         \n",
      "_________________________________________________________________\n",
      "global_max_pooling2d_1 (Glob (None, 512)               0         \n",
      "=================================================================\n",
      "Total params: 14,714,688\n",
      "Trainable params: 0\n",
      "Non-trainable params: 14,714,688\n",
      "_________________________________________________________________\n"
     ]
    }
   ],
   "source": [
    "# Load vgg16 model without top 3 FC layers\n",
    "\n",
    "vgg = VGG16(include_top=False, input_shape=(48, 48, 3),\n",
    "                    pooling='max', weights='imagenet')\n",
    "vgg.trainable = False\n",
    "vgg.summary()"
   ]
  },
  {
   "cell_type": "code",
   "execution_count": 6,
   "metadata": {},
   "outputs": [],
   "source": [
    "#Extract feauture maps from input data using Vgg16 model\n",
    "\n",
    "def get_vgg16_feature(vgg, vgg_input, n_feature_maps):\n",
    "    \n",
    "    picture_train_features = vgg.predict(vgg_input)\n",
    "    del (vgg_input)\n",
    "\n",
    "    feature_map = np.empty([n_feature_maps, 512])\n",
    "    \n",
    "    for idx, picture in enumerate(picture_train_features):\n",
    "        feature_map[idx] = picture\n",
    "        \n",
    "    return feature_map\n",
    "\n",
    "\n",
    "x_train_feature_map = get_vgg16_feature(vgg, X_train, N_train)\n",
    "x_val_feature_map = get_vgg16_feature(vgg, X_val, N_val)\n",
    "x_test_feature_map = get_vgg16_feature(vgg, X_test, N_test)"
   ]
  },
  {
   "cell_type": "code",
   "execution_count": 7,
   "metadata": {},
   "outputs": [
    {
     "name": "stdout",
     "output_type": "stream",
     "text": [
      "_________________________________________________________________\n",
      "Layer (type)                 Output Shape              Param #   \n",
      "=================================================================\n",
      "dense_1 (Dense)              (None, 512)               262656    \n",
      "_________________________________________________________________\n",
      "activation_1 (Activation)    (None, 512)               0         \n",
      "_________________________________________________________________\n",
      "dropout_1 (Dropout)          (None, 512)               0         \n",
      "_________________________________________________________________\n",
      "dense_2 (Dense)              (None, 256)               131328    \n",
      "_________________________________________________________________\n",
      "activation_2 (Activation)    (None, 256)               0         \n",
      "_________________________________________________________________\n",
      "dropout_2 (Dropout)          (None, 256)               0         \n",
      "_________________________________________________________________\n",
      "dense_3 (Dense)              (None, 7)                 1799      \n",
      "_________________________________________________________________\n",
      "activation_3 (Activation)    (None, 7)                 0         \n",
      "=================================================================\n",
      "Total params: 395,783\n",
      "Trainable params: 395,783\n",
      "Non-trainable params: 0\n",
      "_________________________________________________________________\n"
     ]
    }
   ],
   "source": [
    "#Build 3-FC layer model\n",
    "\n",
    "model = Sequential()\n",
    "\n",
    "model.add(Dense(512, input_shape=(512,)))\n",
    "model.add(Activation('relu'))\n",
    "model.add(Dropout(0.3))\n",
    "\n",
    "model.add(Dense(256, input_shape=(512,)))\n",
    "model.add(Activation('relu'))\n",
    "model.add(Dropout(0.3))\n",
    "\n",
    "model.add(Dense(num_classes))\n",
    "model.add(Activation('softmax'))\n",
    "\n",
    "model.summary()"
   ]
  },
  {
   "cell_type": "code",
   "execution_count": 8,
   "metadata": {},
   "outputs": [],
   "source": [
    "adamax = Adamax()\n",
    "\n",
    "#Compile the model\n",
    "model.compile(loss='categorical_crossentropy',\n",
    "             optimizer='adamax',\n",
    "             metrics=['accuracy'])"
   ]
  },
  {
   "cell_type": "code",
   "execution_count": 9,
   "metadata": {},
   "outputs": [
    {
     "name": "stdout",
     "output_type": "stream",
     "text": [
      "Train on 57418 samples, validate on 3589 samples\n",
      "Epoch 1/50\n",
      "57418/57418 [==============================] - 2s 38us/step - loss: 1.6095 - acc: 0.3670 - val_loss: 1.5188 - val_acc: 0.4001\n",
      "Epoch 2/50\n",
      "57418/57418 [==============================] - 2s 28us/step - loss: 1.5048 - acc: 0.4203 - val_loss: 1.4809 - val_acc: 0.4213\n",
      "Epoch 3/50\n",
      "57418/57418 [==============================] - 2s 29us/step - loss: 1.4559 - acc: 0.4428 - val_loss: 1.4568 - val_acc: 0.4413\n",
      "Epoch 4/50\n",
      "57418/57418 [==============================] - 2s 29us/step - loss: 1.4134 - acc: 0.4589 - val_loss: 1.4483 - val_acc: 0.4402\n",
      "Epoch 5/50\n",
      "57418/57418 [==============================] - 2s 29us/step - loss: 1.3699 - acc: 0.4787 - val_loss: 1.4322 - val_acc: 0.4542\n",
      "Epoch 6/50\n",
      "57418/57418 [==============================] - 2s 28us/step - loss: 1.3300 - acc: 0.4954 - val_loss: 1.4175 - val_acc: 0.4511\n",
      "Epoch 7/50\n",
      "57418/57418 [==============================] - 2s 29us/step - loss: 1.2929 - acc: 0.5127 - val_loss: 1.4219 - val_acc: 0.4575\n",
      "Epoch 8/50\n",
      "57418/57418 [==============================] - 2s 28us/step - loss: 1.2580 - acc: 0.5254 - val_loss: 1.4097 - val_acc: 0.4583\n",
      "Epoch 9/50\n",
      "57418/57418 [==============================] - 2s 29us/step - loss: 1.2252 - acc: 0.5393 - val_loss: 1.4271 - val_acc: 0.4645\n",
      "Epoch 10/50\n",
      "57418/57418 [==============================] - 2s 29us/step - loss: 1.1889 - acc: 0.5548 - val_loss: 1.4219 - val_acc: 0.4698\n",
      "Epoch 11/50\n",
      "57418/57418 [==============================] - 2s 29us/step - loss: 1.1569 - acc: 0.5657 - val_loss: 1.4257 - val_acc: 0.4726\n",
      "Epoch 12/50\n",
      "57418/57418 [==============================] - 2s 29us/step - loss: 1.1272 - acc: 0.5780 - val_loss: 1.4258 - val_acc: 0.4756\n",
      "Epoch 13/50\n",
      "57418/57418 [==============================] - 2s 28us/step - loss: 1.1033 - acc: 0.5889 - val_loss: 1.4691 - val_acc: 0.4603\n",
      "Epoch 14/50\n",
      "57418/57418 [==============================] - 2s 29us/step - loss: 1.0747 - acc: 0.5985 - val_loss: 1.4633 - val_acc: 0.4728\n",
      "Epoch 15/50\n",
      "57418/57418 [==============================] - 2s 29us/step - loss: 1.0456 - acc: 0.6101 - val_loss: 1.4674 - val_acc: 0.4739\n",
      "Epoch 16/50\n",
      "57418/57418 [==============================] - 2s 29us/step - loss: 1.0245 - acc: 0.6173 - val_loss: 1.4860 - val_acc: 0.4762\n",
      "Epoch 17/50\n",
      "57418/57418 [==============================] - 2s 28us/step - loss: 0.9999 - acc: 0.6267 - val_loss: 1.5017 - val_acc: 0.4737\n",
      "Epoch 18/50\n",
      "57418/57418 [==============================] - 2s 29us/step - loss: 0.9765 - acc: 0.6333 - val_loss: 1.4829 - val_acc: 0.4804\n",
      "Epoch 19/50\n",
      "57418/57418 [==============================] - 2s 29us/step - loss: 0.9575 - acc: 0.6439 - val_loss: 1.5199 - val_acc: 0.4804\n",
      "Epoch 20/50\n",
      "57418/57418 [==============================] - 2s 29us/step - loss: 0.9374 - acc: 0.6504 - val_loss: 1.5349 - val_acc: 0.4829\n",
      "Epoch 21/50\n",
      "57418/57418 [==============================] - 2s 29us/step - loss: 0.9190 - acc: 0.6582 - val_loss: 1.5369 - val_acc: 0.4843\n",
      "Epoch 22/50\n",
      "57418/57418 [==============================] - 2s 29us/step - loss: 0.9043 - acc: 0.6629 - val_loss: 1.5607 - val_acc: 0.4845\n",
      "Epoch 23/50\n",
      "57418/57418 [==============================] - 2s 29us/step - loss: 0.8805 - acc: 0.6730 - val_loss: 1.5781 - val_acc: 0.4865\n",
      "Epoch 24/50\n",
      "57418/57418 [==============================] - 2s 29us/step - loss: 0.8694 - acc: 0.6783 - val_loss: 1.5942 - val_acc: 0.4873\n",
      "Epoch 25/50\n",
      "57418/57418 [==============================] - 2s 29us/step - loss: 0.8534 - acc: 0.6839 - val_loss: 1.6077 - val_acc: 0.4737\n",
      "Epoch 26/50\n",
      "57418/57418 [==============================] - 2s 29us/step - loss: 0.8442 - acc: 0.6875 - val_loss: 1.6027 - val_acc: 0.4823\n",
      "Epoch 27/50\n",
      "57418/57418 [==============================] - 2s 29us/step - loss: 0.8233 - acc: 0.6952 - val_loss: 1.6252 - val_acc: 0.4854\n",
      "Epoch 28/50\n",
      "57418/57418 [==============================] - 2s 28us/step - loss: 0.8054 - acc: 0.7025 - val_loss: 1.6394 - val_acc: 0.4815\n",
      "Epoch 29/50\n",
      "57418/57418 [==============================] - 2s 29us/step - loss: 0.7991 - acc: 0.7025 - val_loss: 1.6678 - val_acc: 0.4882\n",
      "Epoch 30/50\n",
      "57418/57418 [==============================] - 2s 29us/step - loss: 0.7845 - acc: 0.7094 - val_loss: 1.6643 - val_acc: 0.4815\n",
      "Epoch 31/50\n",
      "57418/57418 [==============================] - 2s 29us/step - loss: 0.7778 - acc: 0.7111 - val_loss: 1.7008 - val_acc: 0.4792\n",
      "Epoch 32/50\n",
      "57418/57418 [==============================] - 2s 28us/step - loss: 0.7647 - acc: 0.7184 - val_loss: 1.7023 - val_acc: 0.4918\n",
      "Epoch 33/50\n",
      "57418/57418 [==============================] - 2s 28us/step - loss: 0.7529 - acc: 0.7211 - val_loss: 1.7077 - val_acc: 0.4876\n",
      "Epoch 34/50\n",
      "57418/57418 [==============================] - 2s 29us/step - loss: 0.7405 - acc: 0.7244 - val_loss: 1.7040 - val_acc: 0.4868\n",
      "Epoch 35/50\n",
      "57418/57418 [==============================] - 2s 29us/step - loss: 0.7372 - acc: 0.7278 - val_loss: 1.7498 - val_acc: 0.4826\n",
      "Epoch 36/50\n",
      "57418/57418 [==============================] - 2s 29us/step - loss: 0.7163 - acc: 0.7356 - val_loss: 1.7488 - val_acc: 0.4831\n",
      "Epoch 37/50\n",
      "57418/57418 [==============================] - 2s 29us/step - loss: 0.7092 - acc: 0.7376 - val_loss: 1.7862 - val_acc: 0.4792\n",
      "Epoch 38/50\n",
      "57418/57418 [==============================] - 2s 28us/step - loss: 0.7027 - acc: 0.7411 - val_loss: 1.7698 - val_acc: 0.4812\n",
      "Epoch 39/50\n",
      "57418/57418 [==============================] - 2s 29us/step - loss: 0.6949 - acc: 0.7408 - val_loss: 1.7805 - val_acc: 0.4784\n",
      "Epoch 40/50\n",
      "57418/57418 [==============================] - 2s 29us/step - loss: 0.6820 - acc: 0.7502 - val_loss: 1.8022 - val_acc: 0.4865\n",
      "Epoch 41/50\n",
      "57418/57418 [==============================] - 2s 29us/step - loss: 0.6768 - acc: 0.7513 - val_loss: 1.8297 - val_acc: 0.4879\n",
      "Epoch 42/50\n",
      "57418/57418 [==============================] - 2s 29us/step - loss: 0.6695 - acc: 0.7540 - val_loss: 1.8452 - val_acc: 0.4804\n",
      "Epoch 43/50\n",
      "57418/57418 [==============================] - 2s 29us/step - loss: 0.6602 - acc: 0.7558 - val_loss: 1.8559 - val_acc: 0.4801\n",
      "Epoch 44/50\n",
      "57418/57418 [==============================] - 2s 28us/step - loss: 0.6586 - acc: 0.7575 - val_loss: 1.8508 - val_acc: 0.4790\n",
      "Epoch 45/50\n",
      "57418/57418 [==============================] - 2s 28us/step - loss: 0.6515 - acc: 0.7596 - val_loss: 1.8554 - val_acc: 0.4962\n",
      "Epoch 46/50\n",
      "57418/57418 [==============================] - 2s 29us/step - loss: 0.6399 - acc: 0.7632 - val_loss: 1.8914 - val_acc: 0.4901\n",
      "Epoch 47/50\n",
      "57418/57418 [==============================] - 2s 29us/step - loss: 0.6320 - acc: 0.7674 - val_loss: 1.8832 - val_acc: 0.4898\n",
      "Epoch 48/50\n",
      "57418/57418 [==============================] - 2s 28us/step - loss: 0.6204 - acc: 0.7727 - val_loss: 1.9438 - val_acc: 0.4806\n",
      "Epoch 49/50\n",
      "57418/57418 [==============================] - 2s 28us/step - loss: 0.6193 - acc: 0.7714 - val_loss: 1.9424 - val_acc: 0.4778\n",
      "Epoch 50/50\n",
      "57418/57418 [==============================] - 2s 28us/step - loss: 0.6122 - acc: 0.7748 - val_loss: 1.9544 - val_acc: 0.4804\n"
     ]
    }
   ],
   "source": [
    "#Train our FC model with training data\n",
    "\n",
    "history = model.fit(x_train_feature_map,y_train,validation_data = (x_val_feature_map, y_val), \n",
    "                    epochs=50,batch_size=128,verbose=1)"
   ]
  },
  {
   "cell_type": "code",
   "execution_count": 10,
   "metadata": {},
   "outputs": [
    {
     "name": "stderr",
     "output_type": "stream",
     "text": [
      "/home/ckadam/anaconda3/envs/tensorflow/lib/python3.6/site-packages/ipykernel_launcher.py:7: UserWarning: Update your `Model` call to the Keras 2 API: `Model(inputs=Tensor(\"in..., outputs=Tensor(\"se...)`\n",
      "  import sys\n"
     ]
    }
   ],
   "source": [
    "#Merge our trained FC model with Vgg16 model\n",
    "\n",
    "inputs = Input(shape=(48, 48, 3))\n",
    "vgg_output = vgg(inputs)\n",
    "\n",
    "model_predictions = model(vgg_output)\n",
    "final_model = Model(input=inputs, output=model_predictions)"
   ]
  },
  {
   "cell_type": "code",
   "execution_count": 11,
   "metadata": {},
   "outputs": [],
   "source": [
    "#Compile the model\n",
    "final_model.compile(loss='categorical_crossentropy',\n",
    "             optimizer='adamax',\n",
    "             metrics=['accuracy'])"
   ]
  },
  {
   "cell_type": "code",
   "execution_count": 12,
   "metadata": {},
   "outputs": [
    {
     "name": "stdout",
     "output_type": "stream",
     "text": [
      "\n",
      "===> Results: VGG16: Feature Extracter <===\n",
      "\n",
      "Training Accuracy: 77.48%\n",
      "Validation Accuracy: 48.04%\n"
     ]
    },
    {
     "data": {
      "image/png": "[encoded data removed]",
      "text/plain": [
       "<Figure size 432x288 with 1 Axes>"
      ]
     },
     "metadata": {
      "needs_background": "light"
     },
     "output_type": "display_data"
    },
    {
     "data": {
      "image/png": "[encoded data removed]",
      "text/plain": [
       "<Figure size 432x288 with 1 Axes>"
      ]
     },
     "metadata": {
      "needs_background": "light"
     },
     "output_type": "display_data"
    },
    {
     "name": "stdout",
     "output_type": "stream",
     "text": [
      "\n",
      "Evaluating model on test data\n",
      "3589/3589 [==============================] - 1s 292us/step\n",
      "\n",
      "Test Accuracy: 49.51%\n",
      "\n",
      "Loss: 1.93\n"
     ]
    }
   ],
   "source": [
    "# Save the model in HDF5 file \n",
    "final_model.save('models/vgg16_model.h5')\n",
    "\n",
    "# Visualize model plots and save in image format\n",
    "from keras.utils import plot_model\n",
    "import pydot\n",
    "plot_model(final_model, to_file='models/vgg16_model_tunned.png', show_shapes=True)\n",
    "\n",
    "# Output training results\n",
    "\n",
    "train_acc = history.history['acc']\n",
    "val_acc = history.history['val_acc']\n",
    "\n",
    "print(\"\\n===> Results: VGG16: Feature Extracter <===\")\n",
    "print(\"\\nTraining Accuracy: %.2f%%\" % ((train_acc[-1])*100))\n",
    "print(\"Validation Accuracy: %.2f%%\" % ((val_acc[-1])*100))\n",
    "\n",
    "# Plot accuracy result\n",
    "plt.plot(train_acc)\n",
    "plt.title('model accuracy plot')\n",
    "plt.ylabel('accuracy')\n",
    "plt.plot(val_acc)\n",
    "plt.xlabel('epoch')\n",
    "plt.legend(['train_acc', 'val_acc'], loc='lower right')\n",
    "plt.show()\n",
    "\n",
    "# Plot loss result\n",
    "plt.plot(history.history['loss'])\n",
    "plt.title('model loss plot')\n",
    "plt.ylabel('loss')\n",
    "plt.plot(history.history['val_loss'])\n",
    "plt.xlabel('epoch')\n",
    "plt.legend(['train_loss', 'test_loss'], loc='upper right')\n",
    "plt.show()\n",
    "\n",
    "print(\"\\nEvaluating model on test data\")\n",
    "scores = final_model.evaluate(X_test,y_test)\n",
    "\n",
    "print(\"\\nTest Accuracy: %.2f%%\" % (scores[1]*100))\n",
    "print(\"\\nLoss: %.2f\" % (scores[0]))"
   ]
  },
  {
   "cell_type": "markdown",
   "metadata": {},
   "source": [
    "### VGG16 - Fine Tuning on FER dataset"
   ]
  },
  {
   "cell_type": "code",
   "execution_count": 13,
   "metadata": {},
   "outputs": [],
   "source": [
    "# Load new vgg model to fine tune\n",
    "\n",
    "vgg1 = VGG16(include_top=False, input_shape=(48, 48, 3),\n",
    "                    pooling='max', weights='imagenet')"
   ]
  },
  {
   "cell_type": "code",
   "execution_count": null,
   "metadata": {},
   "outputs": [],
   "source": [
    "# Freeze number of layers if you want\n",
    "#for layer in vgg1.layers[:-9]:\n",
    "    #layer.trainable = False\n",
    "    \n",
    "# Cheeck trainable status of each layer\n",
    "#for layer in vgg1.layers:\n",
    "    #print(layer, layer.trainable)"
   ]
  },
  {
   "cell_type": "code",
   "execution_count": 14,
   "metadata": {},
   "outputs": [
    {
     "name": "stdout",
     "output_type": "stream",
     "text": [
      "_________________________________________________________________\n",
      "Layer (type)                 Output Shape              Param #   \n",
      "=================================================================\n",
      "vgg16 (Model)                (None, 512)               14714688  \n",
      "_________________________________________________________________\n",
      "dense_4 (Dense)              (None, 512)               262656    \n",
      "_________________________________________________________________\n",
      "activation_4 (Activation)    (None, 512)               0         \n",
      "_________________________________________________________________\n",
      "dropout_3 (Dropout)          (None, 512)               0         \n",
      "_________________________________________________________________\n",
      "dense_5 (Dense)              (None, 256)               131328    \n",
      "_________________________________________________________________\n",
      "activation_5 (Activation)    (None, 256)               0         \n",
      "_________________________________________________________________\n",
      "dropout_4 (Dropout)          (None, 256)               0         \n",
      "_________________________________________________________________\n",
      "dense_6 (Dense)              (None, 7)                 1799      \n",
      "_________________________________________________________________\n",
      "activation_6 (Activation)    (None, 7)                 0         \n",
      "=================================================================\n",
      "Total params: 15,110,471\n",
      "Trainable params: 15,110,471\n",
      "Non-trainable params: 0\n",
      "_________________________________________________________________\n"
     ]
    }
   ],
   "source": [
    "#Build new model with above VGG16 and new 3-FC layers\n",
    "\n",
    "model1 = Sequential()\n",
    "\n",
    "model1.add(vgg1)\n",
    "\n",
    "model1.add(Dense(512, input_shape=(512,)))\n",
    "model1.add(Activation('relu'))\n",
    "model1.add(Dropout(0.3))\n",
    "\n",
    "model1.add(Dense(256, input_shape=(512,)))\n",
    "model1.add(Activation('relu'))\n",
    "model1.add(Dropout(0.3))\n",
    "\n",
    "model1.add(Dense(num_classes))\n",
    "model1.add(Activation('softmax'))\n",
    "\n",
    "model1.summary()"
   ]
  },
  {
   "cell_type": "code",
   "execution_count": 15,
   "metadata": {},
   "outputs": [],
   "source": [
    "#Compile the model\n",
    "model1.compile(loss='categorical_crossentropy',\n",
    "             optimizer='adamax',\n",
    "             metrics=['accuracy'])"
   ]
  },
  {
   "cell_type": "code",
   "execution_count": 16,
   "metadata": {},
   "outputs": [
    {
     "name": "stdout",
     "output_type": "stream",
     "text": [
      "Train on 57418 samples, validate on 3589 samples\n",
      "Epoch 1/40\n",
      "57418/57418 [==============================] - 31s 548us/step - loss: 1.7147 - acc: 0.3029 - val_loss: 1.4293 - val_acc: 0.4517\n",
      "Epoch 2/40\n",
      "57418/57418 [==============================] - 30s 517us/step - loss: 1.3129 - acc: 0.4955 - val_loss: 1.1839 - val_acc: 0.5430\n",
      "Epoch 3/40\n",
      "57418/57418 [==============================] - 30s 518us/step - loss: 1.1695 - acc: 0.5540 - val_loss: 1.1809 - val_acc: 0.5489\n",
      "Epoch 4/40\n",
      "57418/57418 [==============================] - 30s 520us/step - loss: 1.0699 - acc: 0.5961 - val_loss: 1.1017 - val_acc: 0.5821\n",
      "Epoch 5/40\n",
      "57418/57418 [==============================] - 30s 521us/step - loss: 0.9749 - acc: 0.6368 - val_loss: 1.0436 - val_acc: 0.6069\n",
      "Epoch 6/40\n",
      "57418/57418 [==============================] - 30s 524us/step - loss: 0.8792 - acc: 0.6760 - val_loss: 1.0344 - val_acc: 0.6300\n",
      "Epoch 7/40\n",
      "57418/57418 [==============================] - 30s 525us/step - loss: 0.7788 - acc: 0.7164 - val_loss: 1.0136 - val_acc: 0.6369\n",
      "Epoch 8/40\n",
      "57418/57418 [==============================] - 30s 524us/step - loss: 0.6692 - acc: 0.7580 - val_loss: 1.0524 - val_acc: 0.6350\n",
      "Epoch 9/40\n",
      "57418/57418 [==============================] - 30s 525us/step - loss: 0.5761 - acc: 0.7938 - val_loss: 1.1464 - val_acc: 0.6211\n",
      "Epoch 10/40\n",
      "57418/57418 [==============================] - 30s 525us/step - loss: 0.4724 - acc: 0.8332 - val_loss: 1.2707 - val_acc: 0.6372\n",
      "Epoch 11/40\n",
      "57418/57418 [==============================] - 30s 527us/step - loss: 0.3978 - acc: 0.8645 - val_loss: 1.2742 - val_acc: 0.6500\n",
      "Epoch 12/40\n",
      "57418/57418 [==============================] - 30s 526us/step - loss: 0.3243 - acc: 0.8905 - val_loss: 1.5712 - val_acc: 0.6378\n",
      "Epoch 13/40\n",
      "57418/57418 [==============================] - 30s 525us/step - loss: 0.2680 - acc: 0.9118 - val_loss: 1.3810 - val_acc: 0.6473\n",
      "Epoch 14/40\n",
      "57418/57418 [==============================] - 30s 527us/step - loss: 0.2165 - acc: 0.9293 - val_loss: 1.5909 - val_acc: 0.6406\n",
      "Epoch 15/40\n",
      "57418/57418 [==============================] - 30s 525us/step - loss: 0.1852 - acc: 0.9400 - val_loss: 1.6342 - val_acc: 0.6414\n",
      "Epoch 16/40\n",
      "57418/57418 [==============================] - 30s 527us/step - loss: 0.1680 - acc: 0.9464 - val_loss: 1.6798 - val_acc: 0.6308\n",
      "Epoch 17/40\n",
      "57418/57418 [==============================] - 30s 526us/step - loss: 0.1340 - acc: 0.9578 - val_loss: 1.6089 - val_acc: 0.6403\n",
      "Epoch 18/40\n",
      "57418/57418 [==============================] - 30s 528us/step - loss: 0.1258 - acc: 0.9603 - val_loss: 1.6432 - val_acc: 0.6556\n",
      "Epoch 19/40\n",
      "57418/57418 [==============================] - 30s 526us/step - loss: 0.1120 - acc: 0.9655 - val_loss: 1.7190 - val_acc: 0.6492\n",
      "Epoch 20/40\n",
      "57418/57418 [==============================] - 30s 527us/step - loss: 0.1024 - acc: 0.9680 - val_loss: 1.7413 - val_acc: 0.6442\n",
      "Epoch 21/40\n",
      "57418/57418 [==============================] - 30s 526us/step - loss: 0.0970 - acc: 0.9687 - val_loss: 1.8130 - val_acc: 0.6523\n",
      "Epoch 22/40\n",
      "57418/57418 [==============================] - 30s 528us/step - loss: 0.0912 - acc: 0.9705 - val_loss: 1.9376 - val_acc: 0.6531\n",
      "Epoch 23/40\n",
      "57418/57418 [==============================] - 30s 527us/step - loss: 0.0794 - acc: 0.9748 - val_loss: 2.1724 - val_acc: 0.6408\n",
      "Epoch 24/40\n",
      "57418/57418 [==============================] - 30s 527us/step - loss: 0.0742 - acc: 0.9763 - val_loss: 2.0230 - val_acc: 0.6495\n",
      "Epoch 25/40\n",
      "57418/57418 [==============================] - 30s 527us/step - loss: 0.0645 - acc: 0.9802 - val_loss: 2.0744 - val_acc: 0.6386\n",
      "Epoch 26/40\n",
      "57418/57418 [==============================] - 30s 526us/step - loss: 0.0673 - acc: 0.9788 - val_loss: 2.0094 - val_acc: 0.6484\n",
      "Epoch 27/40\n",
      "57418/57418 [==============================] - 30s 525us/step - loss: 0.0693 - acc: 0.9785 - val_loss: 2.1609 - val_acc: 0.6514\n",
      "Epoch 28/40\n",
      "57418/57418 [==============================] - 30s 529us/step - loss: 0.0620 - acc: 0.9803 - val_loss: 2.0189 - val_acc: 0.6489\n",
      "Epoch 29/40\n",
      "57418/57418 [==============================] - 30s 526us/step - loss: 0.0553 - acc: 0.9823 - val_loss: 2.3696 - val_acc: 0.6439\n",
      "Epoch 30/40\n",
      "57418/57418 [==============================] - 30s 525us/step - loss: 0.0538 - acc: 0.9841 - val_loss: 1.9299 - val_acc: 0.6528\n",
      "Epoch 31/40\n",
      "57418/57418 [==============================] - 30s 526us/step - loss: 0.0462 - acc: 0.9857 - val_loss: 2.0777 - val_acc: 0.6434\n",
      "Epoch 32/40\n",
      "57418/57418 [==============================] - 30s 524us/step - loss: 0.0475 - acc: 0.9851 - val_loss: 2.2907 - val_acc: 0.6500\n",
      "Epoch 33/40\n",
      "57418/57418 [==============================] - 30s 524us/step - loss: 0.0437 - acc: 0.9868 - val_loss: 2.1212 - val_acc: 0.6548\n",
      "Epoch 34/40\n",
      "57418/57418 [==============================] - 30s 528us/step - loss: 0.0502 - acc: 0.9842 - val_loss: 2.3859 - val_acc: 0.6559\n",
      "Epoch 35/40\n",
      "57418/57418 [==============================] - 30s 526us/step - loss: 0.0423 - acc: 0.9863 - val_loss: 2.3732 - val_acc: 0.6573\n",
      "Epoch 36/40\n",
      "57418/57418 [==============================] - 30s 525us/step - loss: 0.0381 - acc: 0.9873 - val_loss: 2.4077 - val_acc: 0.6498\n",
      "Epoch 37/40\n",
      "57418/57418 [==============================] - 30s 527us/step - loss: 0.0412 - acc: 0.9867 - val_loss: 2.2227 - val_acc: 0.6389\n",
      "Epoch 38/40\n",
      "57418/57418 [==============================] - 30s 527us/step - loss: 0.0424 - acc: 0.9868 - val_loss: 2.2482 - val_acc: 0.6598\n",
      "Epoch 39/40\n",
      "57418/57418 [==============================] - 30s 525us/step - loss: 0.0368 - acc: 0.9883 - val_loss: 2.1888 - val_acc: 0.6489\n",
      "Epoch 40/40\n",
      "57418/57418 [==============================] - 30s 526us/step - loss: 0.0358 - acc: 0.9888 - val_loss: 2.6921 - val_acc: 0.6629\n"
     ]
    }
   ],
   "source": [
    "#Fit the model\n",
    "history1 = model1.fit(X_train,y_train,validation_data = (X_val, y_val), epochs=40,batch_size=128,verbose=1)"
   ]
  },
  {
   "cell_type": "code",
   "execution_count": 17,
   "metadata": {},
   "outputs": [
    {
     "name": "stdout",
     "output_type": "stream",
     "text": [
      "\n",
      "===> Results: VGG16: Fine Tunned <===\n",
      "\n",
      "Training Accuracy: 98.88%\n",
      "Validation Accuracy: 66.29%\n"
     ]
    },
    {
     "data": {
      "image/png": "[encoded data removed]",
      "text/plain": [
       "<Figure size 432x288 with 1 Axes>"
      ]
     },
     "metadata": {
      "needs_background": "light"
     },
     "output_type": "display_data"
    },
    {
     "data": {
      "image/png": "[encoded data removed]",
      "text/plain": [
       "<Figure size 432x288 with 1 Axes>"
      ]
     },
     "metadata": {
      "needs_background": "light"
     },
     "output_type": "display_data"
    },
    {
     "name": "stdout",
     "output_type": "stream",
     "text": [
      "\n",
      "Evaluating model on test data\n",
      "3589/3589 [==============================] - 1s 262us/step\n",
      "\n",
      "Test Accuracy: 65.00%\n",
      "\n",
      "Loss: 2.85\n"
     ]
    }
   ],
   "source": [
    "# Save the model in HDF5 file \n",
    "model1.save('models/vgg16_model_tunned.h5')\n",
    "\n",
    "# Visualize model plots and save in image format\n",
    "from keras.utils import plot_model\n",
    "import pydot\n",
    "plot_model(model1, to_file='models/vgg16_model_tunned.png', show_shapes=True)\n",
    "\n",
    "# Output training results\n",
    "\n",
    "train_acc = history1.history['acc']\n",
    "val_acc = history1.history['val_acc']\n",
    "\n",
    "print(\"\\n===> Results: VGG16: Fine Tunned <===\")\n",
    "print(\"\\nTraining Accuracy: %.2f%%\" % ((train_acc[-1])*100))\n",
    "print(\"Validation Accuracy: %.2f%%\" % ((val_acc[-1])*100))\n",
    "\n",
    "# Plot accuracy result\n",
    "plt.plot(train_acc)\n",
    "plt.title('model accuracy plot')\n",
    "plt.ylabel('accuracy')\n",
    "plt.plot(val_acc)\n",
    "plt.xlabel('epoch')\n",
    "plt.legend(['train_acc', 'val_acc'], loc='lower right')\n",
    "plt.show()\n",
    "\n",
    "# Plot loss result\n",
    "plt.plot(history1.history['loss'])\n",
    "plt.title('model loss plot')\n",
    "plt.ylabel('loss')\n",
    "plt.plot(history1.history['val_loss'])\n",
    "plt.xlabel('epoch')\n",
    "plt.legend(['train_loss', 'test_loss'], loc='upper right')\n",
    "plt.show()\n",
    "\n",
    "print(\"\\nEvaluating model on test data\")\n",
    "scores = model1.evaluate(X_test,y_test)\n",
    "\n",
    "print(\"\\nTest Accuracy: %.2f%%\" % (scores[1]*100))\n",
    "print(\"\\nLoss: %.2f\" % (scores[0]))"
   ]
  },
  {
   "cell_type": "code",
   "execution_count": 19,
   "metadata": {},
   "outputs": [
    {
     "name": "stdout",
     "output_type": "stream",
     "text": [
      "\n",
      "Confusion matrix for above results:\n"
     ]
    },
    {
     "data": {
      "image/png": "[encoded data removed]",
      "text/plain": [
       "<Figure size 432x432 with 2 Axes>"
      ]
     },
     "metadata": {
      "needs_background": "light"
     },
     "output_type": "display_data"
    }
   ],
   "source": [
    "print(\"\\nConfusion matrix for above results:\")\n",
    "\n",
    "y_prob = model1.predict(X_test, batch_size=50, verbose=0)\n",
    "y_pred = [np.argmax(prob) for prob in y_prob]\n",
    "y_true = [np.argmax(true) for true in y_test]\n",
    "\n",
    "def plot_confusion_matrix(y_true, y_pred, cmap=plt.cm.Blues):\n",
    "    \n",
    "    cm = confusion_matrix(y_true, y_pred)\n",
    "    fig = plt.figure(figsize=(6,6))\n",
    "   # matplotlib.rcParams.update({'font.size': 14})\n",
    "    ax  = fig.add_subplot(111)\n",
    "    matrix = ax.imshow(cm, interpolation='nearest', cmap=cmap)\n",
    "    fig.colorbar(matrix) \n",
    "    \n",
    "    for i in range(0,7):\n",
    "        for j in range(0,7):  \n",
    "            ax.text(j,i,cm[i,j],va='center', ha='center')\n",
    "\n",
    "    ticks = np.arange(len(EMOTIONS))\n",
    "    ax.set_xticks(ticks)\n",
    "    ax.set_xticklabels(EMOTIONS, rotation=45)\n",
    "    ax.set_yticks(ticks)\n",
    "    ax.set_yticklabels(EMOTIONS)\n",
    "    plt.tight_layout()\n",
    "    plt.ylabel('True label')\n",
    "    plt.xlabel('Predicted label')\n",
    "    \n",
    "plot_confusion_matrix(y_true, y_pred, cmap=plt.cm.YlGnBu)"
   ]
  }
 ],
 "metadata": {
  "kernelspec": {
   "display_name": "Python 3",
   "language": "python",
   "name": "python3"
  },
  "language_info": {
   "codemirror_mode": {
    "name": "ipython",
    "version": 3
   },
   "file_extension": ".py",
   "mimetype": "text/x-python",
   "name": "python",
   "nbconvert_exporter": "python",
   "pygments_lexer": "ipython3",
   "version": "3.6.7"
  }
 },
 "nbformat": 4,
 "nbformat_minor": 2
}
